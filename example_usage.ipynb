
{
 "cells": [
  {
   "cell_type": "markdown",
   "metadata": {},
   "source": [
    "# 📘 Example Usage: Churn Modeling Pipelines\n",
    "This notebook demonstrates how to use the `churn_modeling_pipelines` package step-by-step."
   ]
  },
  {
   "cell_type": "code",
   "execution_count": null,
   "metadata": {},
   "outputs": [],
   "source": [
    "# ✅ Step 1: Import required modules\n",
    "from churn_modeling_pipelines import (\n",
    "    ChurnPreprocessor,\n",
    "    CustomerJourneyClassifier,\n",
    "    ChurnModelBuilder,\n",
    "    ChurnEvaluator,\n",
    "    ChurnPlotter,\n",
    "    ModelComparator\n",
    ")"
   ]
  },
  {
   "cell_type": "code",
   "execution_count": null,
   "metadata": {},
   "outputs": [],
   "source": [
    "# ✅ Step 2: Load sample dataset\n",
    "import pandas as pd\n",
    "df = pd.read_csv('your_churn_data.csv')  # Replace with actual path"
   ]
  },
  {
   "cell_type": "code",
   "execution_count": null,
   "metadata": {},
   "outputs": [],
   "source": [
    "# ✅ Step 3: Preprocess data\n",
    "preprocessor = ChurnPreprocessor(df)\n",
    "X_train, X_test, y_train, y_test = preprocessor.preprocess()"
   ]
  },
  {
   "cell_type": "code",
   "execution_count": null,
   "metadata": {},
   "outputs": [],
   "source": [
    "# ✅ Step 4: Build a model – example with Logistic Regression\n",
    "builder_method = ChurnModelBuilder(X_train, X_test, y_train).build_logistic_regression\n",
    "model_name = 'Logistic Regression'\n",
    "best_variant_name, best_model, evaluation_df = ChurnEvaluator.evaluate_model(\n",
    "    model_name=model_name,\n",
    "    builder_method=builder_method,\n",
    "    X_train=X_train,\n",
    "    X_test=X_test,\n",
    "    y_train=y_train,\n",
    "    y_test=y_test\n",
    ")"
   ]
  },
  {
   "cell_type": "code",
   "execution_count": null,
   "metadata": {},
   "outputs": [],
   "source": [
    "# ✅ Step 5: Visualize evaluation results\n",
    "ChurnPlotter.plot_confusion_matrix(y_test, best_model.predict(X_test), model_name)\n",
    "ChurnPlotter.plot_roc_curve(best_model, X_test, y_test, model_name)\n",
    "ChurnPlotter.plot_radial_chart(evaluation_df.iloc[0][['Accuracy','Precision','Recall','F1-Score']].to_dict(), model_name)"
   ]
  }
 ],
 "metadata": {
  "kernelspec": {
   "display_name": "Python 3",
   "language": "python",
   "name": "python3"
  },
  "language_info": {
   "name": "python",
   "version": "3.11"
  }
 },
 "nbformat": 4,
 "nbformat_minor": 5
}
